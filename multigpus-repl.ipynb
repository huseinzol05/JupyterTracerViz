{
 "cells": [
  {
   "cell_type": "code",
   "execution_count": 1,
   "id": "f3de9260",
   "metadata": {},
   "outputs": [
    {
     "name": "stdout",
     "output_type": "stream",
     "text": [
      "Worker 0/3 initialized on GPU 0 on localhost:12355\n",
      "Worker 1/3 initialized on GPU 1 on localhost:12355\n",
      "Worker 2/3 initialized on GPU 2 on localhost:12355\n"
     ]
    }
   ],
   "source": [
    "from jupytertracerviz import init_multigpus_repl, multigpus\n",
    "init_multigpus_repl()"
   ]
  },
  {
   "cell_type": "code",
   "execution_count": 2,
   "id": "d6110c63",
   "metadata": {},
   "outputs": [
    {
     "name": "stdout",
     "output_type": "stream",
     "text": [
      "[GPU 0] Rank 0: Output sum 1.8705439567565918\n",
      "[GPU 1] Rank 1: Output sum 1.8705439567565918\n",
      "[GPU 2] Rank 2: Output sum 1.8705439567565918\n"
     ]
    }
   ],
   "source": [
    "%%multigpus\n",
    "\n",
    "model = torch.nn.Linear(10, 10).cuda(rank)\n",
    "\n",
    "x = torch.randn(10, 10).cuda(rank)\n",
    "output = model(x)\n",
    "\n",
    "print(f\"Rank {rank}: Output sum {output.sum().item()}\")"
   ]
  },
  {
   "cell_type": "code",
   "execution_count": 4,
   "id": "c8068e6b",
   "metadata": {},
   "outputs": [],
   "source": [
    "%%multigpus\n",
    "\n",
    "from torch.distributed.tensor.parallel import parallelize_module, ColwiseParallel\n",
    "from torch.distributed.device_mesh import init_device_mesh\n",
    "\n",
    "class FeedForward(nn.Module):\n",
    "    def __init__(self, dim, hidden_dim):\n",
    "        super().__init__()\n",
    "        self.w1 = nn.Linear(dim, hidden_dim, bias=False)\n",
    "\n",
    "    def forward(self, x):\n",
    "        w1 = self.w1(x)\n",
    "\n",
    "model = FeedForward(8192, 8192)\n",
    "device_mesh = init_device_mesh('cuda', (3,))\n",
    "linears = {name: ColwiseParallel(use_local_output = False) \\\n",
    "           for name, submodule in model.named_modules() \\\n",
    "           if isinstance(submodule, nn.Linear)}\n",
    "model = parallelize_module(model, device_mesh, linears)"
   ]
  },
  {
   "cell_type": "code",
   "execution_count": 7,
   "id": "8349ef3e",
   "metadata": {},
   "outputs": [
    {
     "name": "stdout",
     "output_type": "stream",
     "text": [
      "[GPU 0] DTensor(local_tensor=tensor([[ 0.0093,  0.0076,  0.0007,  ...,  0.0004, -0.0050, -0.0019],\n",
      "        [-0.0073, -0.0070, -0.0062,  ...,  0.0004,  0.0077,  0.0005],\n",
      "        [-0.0094,  0.0043,  0.0092,  ..., -0.0058, -0.0054,  0.0059],\n",
      "        ...,\n",
      "        [-0.0102,  0.0093,  0.0051,  ..., -0.0065, -0.0071,  0.0065],\n",
      "        [ 0.0029,  0.0036,  0.0107,  ...,  0.0089, -0.0007, -0.0023],\n",
      "        [ 0.0064, -0.0008,  0.0090,  ..., -0.0075,  0.0102, -0.0078]],\n",
      "       device='cuda:0'), device_mesh=DeviceMesh('cuda', [0, 1, 2]), placements=(Shard(dim=0),))\n",
      "[GPU 1] DTensor(local_tensor=tensor([[ 0.0073,  0.0030, -0.0023,  ..., -0.0001, -0.0056, -0.0017],\n",
      "        [ 0.0072, -0.0014, -0.0031,  ..., -0.0042,  0.0065, -0.0058],\n",
      "        [ 0.0009, -0.0069, -0.0058,  ...,  0.0058, -0.0091,  0.0048],\n",
      "        ...,\n",
      "        [-0.0108,  0.0031, -0.0069,  ..., -0.0067,  0.0077,  0.0108],\n",
      "        [ 0.0034,  0.0045,  0.0104,  ..., -0.0045,  0.0036,  0.0046],\n",
      "        [ 0.0105,  0.0030, -0.0090,  ...,  0.0098, -0.0089, -0.0077]],\n",
      "       device='cuda:1'), device_mesh=DeviceMesh('cuda', [0, 1, 2]), placements=(Shard(dim=0),))\n",
      "[GPU 2] DTensor(local_tensor=tensor([[-0.0109, -0.0014,  0.0066,  ..., -0.0087, -0.0067, -0.0093],\n",
      "        [-0.0049, -0.0060,  0.0015,  ...,  0.0077,  0.0014,  0.0106],\n",
      "        [ 0.0029,  0.0041, -0.0033,  ..., -0.0027, -0.0029, -0.0051],\n",
      "        ...,\n",
      "        [ 0.0030,  0.0087, -0.0093,  ...,  0.0073, -0.0033, -0.0102],\n",
      "        [ 0.0003,  0.0009, -0.0085,  ..., -0.0058,  0.0036,  0.0086],\n",
      "        [-0.0090,  0.0086,  0.0096,  ...,  0.0023,  0.0002,  0.0099]],\n",
      "       device='cuda:2'), device_mesh=DeviceMesh('cuda', [0, 1, 2]), placements=(Shard(dim=0),))\n"
     ]
    }
   ],
   "source": [
    "%%multigpus\n",
    "\n",
    "print(model.w1.weight)"
   ]
  }
 ],
 "metadata": {
  "kernelspec": {
   "display_name": "python3.10",
   "language": "python",
   "name": "python3.10"
  },
  "language_info": {
   "codemirror_mode": {
    "name": "ipython",
    "version": 3
   },
   "file_extension": ".py",
   "mimetype": "text/x-python",
   "name": "python",
   "nbconvert_exporter": "python",
   "pygments_lexer": "ipython3",
   "version": "3.10.15"
  }
 },
 "nbformat": 4,
 "nbformat_minor": 5
}
